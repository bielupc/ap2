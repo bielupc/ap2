{
 "cells": [
  {
   "cell_type": "code",
   "execution_count": 2,
   "id": "e90fdde3",
   "metadata": {},
   "outputs": [],
   "source": [
    "import pandas as pd\n",
    "import matplotlib.pyplot as plt"
   ]
  },
  {
   "cell_type": "code",
   "execution_count": 20,
   "id": "d81e50a3",
   "metadata": {},
   "outputs": [],
   "source": [
    "expert = pd.read_csv('expert.csv', index_col=False)\n",
    "expert.columns = [\"t\", \"cash\"]"
   ]
  },
  {
   "cell_type": "code",
   "execution_count": 27,
   "id": "70efb3fd",
   "metadata": {},
   "outputs": [
    {
     "data": {
      "text/html": [
       "<div>\n",
       "<style scoped>\n",
       "    .dataframe tbody tr th:only-of-type {\n",
       "        vertical-align: middle;\n",
       "    }\n",
       "\n",
       "    .dataframe tbody tr th {\n",
       "        vertical-align: top;\n",
       "    }\n",
       "\n",
       "    .dataframe thead th {\n",
       "        text-align: right;\n",
       "    }\n",
       "</style>\n",
       "<table border=\"1\" class=\"dataframe\">\n",
       "  <thead>\n",
       "    <tr style=\"text-align: right;\">\n",
       "      <th></th>\n",
       "      <th>t</th>\n",
       "      <th>cash</th>\n",
       "    </tr>\n",
       "  </thead>\n",
       "  <tbody>\n",
       "    <tr>\n",
       "      <th>18594</th>\n",
       "      <td>18595</td>\n",
       "      <td>2510651</td>\n",
       "    </tr>\n",
       "    <tr>\n",
       "      <th>18595</th>\n",
       "      <td>18596</td>\n",
       "      <td>2510651</td>\n",
       "    </tr>\n",
       "    <tr>\n",
       "      <th>18596</th>\n",
       "      <td>18597</td>\n",
       "      <td>2510651</td>\n",
       "    </tr>\n",
       "    <tr>\n",
       "      <th>18597</th>\n",
       "      <td>18598</td>\n",
       "      <td>2510651</td>\n",
       "    </tr>\n",
       "    <tr>\n",
       "      <th>18598</th>\n",
       "      <td>18599</td>\n",
       "      <td>2510651</td>\n",
       "    </tr>\n",
       "  </tbody>\n",
       "</table>\n",
       "</div>"
      ],
      "text/plain": [
       "           t     cash\n",
       "18594  18595  2510651\n",
       "18595  18596  2510651\n",
       "18596  18597  2510651\n",
       "18597  18598  2510651\n",
       "18598  18599  2510651"
      ]
     },
     "execution_count": 27,
     "metadata": {},
     "output_type": "execute_result"
    }
   ],
   "source": [
    "expert.tail()"
   ]
  },
  {
   "cell_type": "code",
   "execution_count": 29,
   "id": "177e49dc",
   "metadata": {},
   "outputs": [],
   "source": [
    "simple = pd.read_csv('simple.csv', index_col=False)\n",
    "simple.columns = [\"t\", \"cash\"]"
   ]
  },
  {
   "cell_type": "code",
   "execution_count": 31,
   "id": "4d40dffd",
   "metadata": {},
   "outputs": [
    {
     "data": {
      "text/html": [
       "<div>\n",
       "<style scoped>\n",
       "    .dataframe tbody tr th:only-of-type {\n",
       "        vertical-align: middle;\n",
       "    }\n",
       "\n",
       "    .dataframe tbody tr th {\n",
       "        vertical-align: top;\n",
       "    }\n",
       "\n",
       "    .dataframe thead th {\n",
       "        text-align: right;\n",
       "    }\n",
       "</style>\n",
       "<table border=\"1\" class=\"dataframe\">\n",
       "  <thead>\n",
       "    <tr style=\"text-align: right;\">\n",
       "      <th></th>\n",
       "      <th>t</th>\n",
       "      <th>cash</th>\n",
       "    </tr>\n",
       "  </thead>\n",
       "  <tbody>\n",
       "    <tr>\n",
       "      <th>18594</th>\n",
       "      <td>18595</td>\n",
       "      <td>2515070</td>\n",
       "    </tr>\n",
       "    <tr>\n",
       "      <th>18595</th>\n",
       "      <td>18596</td>\n",
       "      <td>2515070</td>\n",
       "    </tr>\n",
       "    <tr>\n",
       "      <th>18596</th>\n",
       "      <td>18597</td>\n",
       "      <td>2515070</td>\n",
       "    </tr>\n",
       "    <tr>\n",
       "      <th>18597</th>\n",
       "      <td>18598</td>\n",
       "      <td>2516122</td>\n",
       "    </tr>\n",
       "    <tr>\n",
       "      <th>18598</th>\n",
       "      <td>18599</td>\n",
       "      <td>2516122</td>\n",
       "    </tr>\n",
       "  </tbody>\n",
       "</table>\n",
       "</div>"
      ],
      "text/plain": [
       "           t     cash\n",
       "18594  18595  2515070\n",
       "18595  18596  2515070\n",
       "18596  18597  2515070\n",
       "18597  18598  2516122\n",
       "18598  18599  2516122"
      ]
     },
     "execution_count": 31,
     "metadata": {},
     "output_type": "execute_result"
    }
   ],
   "source": [
    "simple.tail()"
   ]
  },
  {
   "cell_type": "code",
   "execution_count": null,
   "id": "30ed206f",
   "metadata": {},
   "outputs": [],
   "source": [
    "plt.line(simple['cash'], expert[\"cash\"])\n",
    "plt.show() \n"
   ]
  }
 ],
 "metadata": {
  "kernelspec": {
   "display_name": "Python 3 (ipykernel)",
   "language": "python",
   "name": "python3"
  },
  "language_info": {
   "codemirror_mode": {
    "name": "ipython",
    "version": 3
   },
   "file_extension": ".py",
   "mimetype": "text/x-python",
   "name": "python",
   "nbconvert_exporter": "python",
   "pygments_lexer": "ipython3",
   "version": "3.9.12"
  }
 },
 "nbformat": 4,
 "nbformat_minor": 5
}
